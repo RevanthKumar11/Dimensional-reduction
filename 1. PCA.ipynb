{
 "cells": [
  {
   "cell_type": "code",
   "execution_count": 2,
   "metadata": {},
   "outputs": [],
   "source": [
    "import pandas as pd\n",
    "from sklearn.model_selection import train_test_split\n",
    "from sklearn.preprocessing import StandardScaler"
   ]
  },
  {
   "cell_type": "code",
   "execution_count": 4,
   "metadata": {},
   "outputs": [],
   "source": [
    "from sklearn.decomposition import PCA"
   ]
  },
  {
   "cell_type": "code",
   "execution_count": 3,
   "metadata": {},
   "outputs": [],
   "source": [
    "# Machine learning algorithms for categorical \n",
    "\n",
    "from sklearn.linear_model import LogisticRegression # this name is logisticRegression but it support the classification problems\n",
    "from sklearn.svm import SVC # Support vector classifier\n",
    "from sklearn.naive_bayes import GaussianNB # Gaussian naive bayes\n",
    "from sklearn.neighbors import KNeighborsClassifier # KNN neighbors classifier\n",
    "from sklearn.tree import DecisionTreeClassifier # Decision Tree Classifier\n",
    "from sklearn.ensemble import RandomForestClassifier # Random forest classifier"
   ]
  },
  {
   "cell_type": "code",
   "execution_count": 5,
   "metadata": {},
   "outputs": [],
   "source": [
    "dataSetOne = pd.read_csv('CKD.csv')"
   ]
  },
  {
   "cell_type": "code",
   "execution_count": 6,
   "metadata": {},
   "outputs": [
    {
     "data": {
      "text/plain": [
       "ckd       248\n",
       "notckd    150\n",
       "ckd\\t       2\n",
       "Name: classification, dtype: int64"
      ]
     },
     "execution_count": 6,
     "metadata": {},
     "output_type": "execute_result"
    }
   ],
   "source": [
    "dataSetOne['classification'].value_counts()"
   ]
  },
  {
   "cell_type": "code",
   "execution_count": 11,
   "metadata": {},
   "outputs": [],
   "source": [
    "dataSetOne.loc[dataSetOne['classification'] == 'ckd', 'classification'] = 'yes'\n",
    "dataSetOne.loc[dataSetOne['classification'] == 'ckd\\t', 'classification'] = 'yes'\n",
    "dataSetOne.loc[dataSetOne['classification'] == 'notckd', 'classification'] = 'no'"
   ]
  },
  {
   "cell_type": "code",
   "execution_count": 12,
   "metadata": {},
   "outputs": [
    {
     "data": {
      "text/plain": [
       "yes    250\n",
       "no     150\n",
       "Name: classification, dtype: int64"
      ]
     },
     "execution_count": 12,
     "metadata": {},
     "output_type": "execute_result"
    }
   ],
   "source": [
    "dataSetOne['classification'].value_counts()"
   ]
  },
  {
   "cell_type": "code",
   "execution_count": 15,
   "metadata": {},
   "outputs": [],
   "source": [
    "dataSetOne = pd.get_dummies(dataSetOne, drop_first = True)\n",
    "dataSetTwo = dataSetOne"
   ]
  },
  {
   "cell_type": "code",
   "execution_count": 17,
   "metadata": {},
   "outputs": [
    {
     "data": {
      "text/html": [
       "<div>\n",
       "<style scoped>\n",
       "    .dataframe tbody tr th:only-of-type {\n",
       "        vertical-align: middle;\n",
       "    }\n",
       "\n",
       "    .dataframe tbody tr th {\n",
       "        vertical-align: top;\n",
       "    }\n",
       "\n",
       "    .dataframe thead th {\n",
       "        text-align: right;\n",
       "    }\n",
       "</style>\n",
       "<table border=\"1\" class=\"dataframe\">\n",
       "  <thead>\n",
       "    <tr style=\"text-align: right;\">\n",
       "      <th></th>\n",
       "      <th>age</th>\n",
       "      <th>bp</th>\n",
       "      <th>sg</th>\n",
       "      <th>al</th>\n",
       "      <th>su</th>\n",
       "      <th>bgr</th>\n",
       "      <th>bu</th>\n",
       "      <th>sc</th>\n",
       "      <th>sod</th>\n",
       "      <th>pot</th>\n",
       "      <th>...</th>\n",
       "      <th>dm_\\tyes</th>\n",
       "      <th>dm_ yes</th>\n",
       "      <th>dm_no</th>\n",
       "      <th>dm_yes</th>\n",
       "      <th>cad_no</th>\n",
       "      <th>cad_yes</th>\n",
       "      <th>appet_poor</th>\n",
       "      <th>pe_yes</th>\n",
       "      <th>ane_yes</th>\n",
       "      <th>classification_yes</th>\n",
       "    </tr>\n",
       "  </thead>\n",
       "  <tbody>\n",
       "    <tr>\n",
       "      <th>0</th>\n",
       "      <td>48.0</td>\n",
       "      <td>80.0</td>\n",
       "      <td>1.0200</td>\n",
       "      <td>1.0</td>\n",
       "      <td>0.000000</td>\n",
       "      <td>121.000000</td>\n",
       "      <td>36.0</td>\n",
       "      <td>1.2</td>\n",
       "      <td>137.528754</td>\n",
       "      <td>4.627244</td>\n",
       "      <td>...</td>\n",
       "      <td>0</td>\n",
       "      <td>0</td>\n",
       "      <td>0</td>\n",
       "      <td>1</td>\n",
       "      <td>1</td>\n",
       "      <td>0</td>\n",
       "      <td>0</td>\n",
       "      <td>0</td>\n",
       "      <td>0</td>\n",
       "      <td>1</td>\n",
       "    </tr>\n",
       "    <tr>\n",
       "      <th>1</th>\n",
       "      <td>9.0</td>\n",
       "      <td>55.0</td>\n",
       "      <td>1.0200</td>\n",
       "      <td>4.0</td>\n",
       "      <td>0.000000</td>\n",
       "      <td>148.036517</td>\n",
       "      <td>18.0</td>\n",
       "      <td>0.8</td>\n",
       "      <td>137.528754</td>\n",
       "      <td>4.627244</td>\n",
       "      <td>...</td>\n",
       "      <td>0</td>\n",
       "      <td>0</td>\n",
       "      <td>1</td>\n",
       "      <td>0</td>\n",
       "      <td>1</td>\n",
       "      <td>0</td>\n",
       "      <td>0</td>\n",
       "      <td>0</td>\n",
       "      <td>0</td>\n",
       "      <td>1</td>\n",
       "    </tr>\n",
       "    <tr>\n",
       "      <th>2</th>\n",
       "      <td>62.0</td>\n",
       "      <td>80.0</td>\n",
       "      <td>1.0100</td>\n",
       "      <td>2.0</td>\n",
       "      <td>1.125356</td>\n",
       "      <td>223.500000</td>\n",
       "      <td>53.0</td>\n",
       "      <td>1.8</td>\n",
       "      <td>137.528754</td>\n",
       "      <td>4.627244</td>\n",
       "      <td>...</td>\n",
       "      <td>0</td>\n",
       "      <td>0</td>\n",
       "      <td>0</td>\n",
       "      <td>1</td>\n",
       "      <td>1</td>\n",
       "      <td>0</td>\n",
       "      <td>1</td>\n",
       "      <td>0</td>\n",
       "      <td>1</td>\n",
       "      <td>1</td>\n",
       "    </tr>\n",
       "    <tr>\n",
       "      <th>3</th>\n",
       "      <td>48.0</td>\n",
       "      <td>70.0</td>\n",
       "      <td>1.0075</td>\n",
       "      <td>4.0</td>\n",
       "      <td>0.000000</td>\n",
       "      <td>117.000000</td>\n",
       "      <td>56.0</td>\n",
       "      <td>3.8</td>\n",
       "      <td>126.000000</td>\n",
       "      <td>2.800000</td>\n",
       "      <td>...</td>\n",
       "      <td>0</td>\n",
       "      <td>0</td>\n",
       "      <td>1</td>\n",
       "      <td>0</td>\n",
       "      <td>1</td>\n",
       "      <td>0</td>\n",
       "      <td>1</td>\n",
       "      <td>1</td>\n",
       "      <td>1</td>\n",
       "      <td>1</td>\n",
       "    </tr>\n",
       "    <tr>\n",
       "      <th>4</th>\n",
       "      <td>51.0</td>\n",
       "      <td>80.0</td>\n",
       "      <td>1.0100</td>\n",
       "      <td>2.0</td>\n",
       "      <td>0.000000</td>\n",
       "      <td>106.000000</td>\n",
       "      <td>26.0</td>\n",
       "      <td>1.4</td>\n",
       "      <td>137.528754</td>\n",
       "      <td>4.627244</td>\n",
       "      <td>...</td>\n",
       "      <td>0</td>\n",
       "      <td>0</td>\n",
       "      <td>1</td>\n",
       "      <td>0</td>\n",
       "      <td>1</td>\n",
       "      <td>0</td>\n",
       "      <td>0</td>\n",
       "      <td>0</td>\n",
       "      <td>0</td>\n",
       "      <td>1</td>\n",
       "    </tr>\n",
       "  </tbody>\n",
       "</table>\n",
       "<p>5 rows × 208 columns</p>\n",
       "</div>"
      ],
      "text/plain": [
       "    age    bp      sg   al        su         bgr    bu   sc         sod  \\\n",
       "0  48.0  80.0  1.0200  1.0  0.000000  121.000000  36.0  1.2  137.528754   \n",
       "1   9.0  55.0  1.0200  4.0  0.000000  148.036517  18.0  0.8  137.528754   \n",
       "2  62.0  80.0  1.0100  2.0  1.125356  223.500000  53.0  1.8  137.528754   \n",
       "3  48.0  70.0  1.0075  4.0  0.000000  117.000000  56.0  3.8  126.000000   \n",
       "4  51.0  80.0  1.0100  2.0  0.000000  106.000000  26.0  1.4  137.528754   \n",
       "\n",
       "        pot  ...  dm_\\tyes  dm_ yes  dm_no  dm_yes  cad_no  cad_yes  \\\n",
       "0  4.627244  ...         0        0      0       1       1        0   \n",
       "1  4.627244  ...         0        0      1       0       1        0   \n",
       "2  4.627244  ...         0        0      0       1       1        0   \n",
       "3  2.800000  ...         0        0      1       0       1        0   \n",
       "4  4.627244  ...         0        0      1       0       1        0   \n",
       "\n",
       "   appet_poor  pe_yes  ane_yes  classification_yes  \n",
       "0           0       0        0                   1  \n",
       "1           0       0        0                   1  \n",
       "2           1       0        1                   1  \n",
       "3           1       1        1                   1  \n",
       "4           0       0        0                   1  \n",
       "\n",
       "[5 rows x 208 columns]"
      ]
     },
     "execution_count": 17,
     "metadata": {},
     "output_type": "execute_result"
    }
   ],
   "source": [
    "dataSetTwo.head()"
   ]
  },
  {
   "cell_type": "code",
   "execution_count": 18,
   "metadata": {},
   "outputs": [],
   "source": [
    "independent_x = dataSetTwo.drop('classification_yes', 1)\n",
    "dependent_y = dataSetTwo['classification_yes']"
   ]
  },
  {
   "cell_type": "code",
   "execution_count": 19,
   "metadata": {},
   "outputs": [
    {
     "data": {
      "text/html": [
       "<div>\n",
       "<style scoped>\n",
       "    .dataframe tbody tr th:only-of-type {\n",
       "        vertical-align: middle;\n",
       "    }\n",
       "\n",
       "    .dataframe tbody tr th {\n",
       "        vertical-align: top;\n",
       "    }\n",
       "\n",
       "    .dataframe thead th {\n",
       "        text-align: right;\n",
       "    }\n",
       "</style>\n",
       "<table border=\"1\" class=\"dataframe\">\n",
       "  <thead>\n",
       "    <tr style=\"text-align: right;\">\n",
       "      <th></th>\n",
       "      <th>age</th>\n",
       "      <th>bp</th>\n",
       "      <th>sg</th>\n",
       "      <th>al</th>\n",
       "      <th>su</th>\n",
       "      <th>bgr</th>\n",
       "      <th>bu</th>\n",
       "      <th>sc</th>\n",
       "      <th>sod</th>\n",
       "      <th>pot</th>\n",
       "      <th>...</th>\n",
       "      <th>htn_yes</th>\n",
       "      <th>dm_\\tyes</th>\n",
       "      <th>dm_ yes</th>\n",
       "      <th>dm_no</th>\n",
       "      <th>dm_yes</th>\n",
       "      <th>cad_no</th>\n",
       "      <th>cad_yes</th>\n",
       "      <th>appet_poor</th>\n",
       "      <th>pe_yes</th>\n",
       "      <th>ane_yes</th>\n",
       "    </tr>\n",
       "  </thead>\n",
       "  <tbody>\n",
       "    <tr>\n",
       "      <th>0</th>\n",
       "      <td>48.0</td>\n",
       "      <td>80.0</td>\n",
       "      <td>1.0200</td>\n",
       "      <td>1.0</td>\n",
       "      <td>0.000000</td>\n",
       "      <td>121.000000</td>\n",
       "      <td>36.0</td>\n",
       "      <td>1.2</td>\n",
       "      <td>137.528754</td>\n",
       "      <td>4.627244</td>\n",
       "      <td>...</td>\n",
       "      <td>1</td>\n",
       "      <td>0</td>\n",
       "      <td>0</td>\n",
       "      <td>0</td>\n",
       "      <td>1</td>\n",
       "      <td>1</td>\n",
       "      <td>0</td>\n",
       "      <td>0</td>\n",
       "      <td>0</td>\n",
       "      <td>0</td>\n",
       "    </tr>\n",
       "    <tr>\n",
       "      <th>1</th>\n",
       "      <td>9.0</td>\n",
       "      <td>55.0</td>\n",
       "      <td>1.0200</td>\n",
       "      <td>4.0</td>\n",
       "      <td>0.000000</td>\n",
       "      <td>148.036517</td>\n",
       "      <td>18.0</td>\n",
       "      <td>0.8</td>\n",
       "      <td>137.528754</td>\n",
       "      <td>4.627244</td>\n",
       "      <td>...</td>\n",
       "      <td>0</td>\n",
       "      <td>0</td>\n",
       "      <td>0</td>\n",
       "      <td>1</td>\n",
       "      <td>0</td>\n",
       "      <td>1</td>\n",
       "      <td>0</td>\n",
       "      <td>0</td>\n",
       "      <td>0</td>\n",
       "      <td>0</td>\n",
       "    </tr>\n",
       "    <tr>\n",
       "      <th>2</th>\n",
       "      <td>62.0</td>\n",
       "      <td>80.0</td>\n",
       "      <td>1.0100</td>\n",
       "      <td>2.0</td>\n",
       "      <td>1.125356</td>\n",
       "      <td>223.500000</td>\n",
       "      <td>53.0</td>\n",
       "      <td>1.8</td>\n",
       "      <td>137.528754</td>\n",
       "      <td>4.627244</td>\n",
       "      <td>...</td>\n",
       "      <td>0</td>\n",
       "      <td>0</td>\n",
       "      <td>0</td>\n",
       "      <td>0</td>\n",
       "      <td>1</td>\n",
       "      <td>1</td>\n",
       "      <td>0</td>\n",
       "      <td>1</td>\n",
       "      <td>0</td>\n",
       "      <td>1</td>\n",
       "    </tr>\n",
       "    <tr>\n",
       "      <th>3</th>\n",
       "      <td>48.0</td>\n",
       "      <td>70.0</td>\n",
       "      <td>1.0075</td>\n",
       "      <td>4.0</td>\n",
       "      <td>0.000000</td>\n",
       "      <td>117.000000</td>\n",
       "      <td>56.0</td>\n",
       "      <td>3.8</td>\n",
       "      <td>126.000000</td>\n",
       "      <td>2.800000</td>\n",
       "      <td>...</td>\n",
       "      <td>1</td>\n",
       "      <td>0</td>\n",
       "      <td>0</td>\n",
       "      <td>1</td>\n",
       "      <td>0</td>\n",
       "      <td>1</td>\n",
       "      <td>0</td>\n",
       "      <td>1</td>\n",
       "      <td>1</td>\n",
       "      <td>1</td>\n",
       "    </tr>\n",
       "    <tr>\n",
       "      <th>4</th>\n",
       "      <td>51.0</td>\n",
       "      <td>80.0</td>\n",
       "      <td>1.0100</td>\n",
       "      <td>2.0</td>\n",
       "      <td>0.000000</td>\n",
       "      <td>106.000000</td>\n",
       "      <td>26.0</td>\n",
       "      <td>1.4</td>\n",
       "      <td>137.528754</td>\n",
       "      <td>4.627244</td>\n",
       "      <td>...</td>\n",
       "      <td>0</td>\n",
       "      <td>0</td>\n",
       "      <td>0</td>\n",
       "      <td>1</td>\n",
       "      <td>0</td>\n",
       "      <td>1</td>\n",
       "      <td>0</td>\n",
       "      <td>0</td>\n",
       "      <td>0</td>\n",
       "      <td>0</td>\n",
       "    </tr>\n",
       "  </tbody>\n",
       "</table>\n",
       "<p>5 rows × 207 columns</p>\n",
       "</div>"
      ],
      "text/plain": [
       "    age    bp      sg   al        su         bgr    bu   sc         sod  \\\n",
       "0  48.0  80.0  1.0200  1.0  0.000000  121.000000  36.0  1.2  137.528754   \n",
       "1   9.0  55.0  1.0200  4.0  0.000000  148.036517  18.0  0.8  137.528754   \n",
       "2  62.0  80.0  1.0100  2.0  1.125356  223.500000  53.0  1.8  137.528754   \n",
       "3  48.0  70.0  1.0075  4.0  0.000000  117.000000  56.0  3.8  126.000000   \n",
       "4  51.0  80.0  1.0100  2.0  0.000000  106.000000  26.0  1.4  137.528754   \n",
       "\n",
       "        pot  ...  htn_yes  dm_\\tyes  dm_ yes  dm_no  dm_yes  cad_no  cad_yes  \\\n",
       "0  4.627244  ...        1         0        0      0       1       1        0   \n",
       "1  4.627244  ...        0         0        0      1       0       1        0   \n",
       "2  4.627244  ...        0         0        0      0       1       1        0   \n",
       "3  2.800000  ...        1         0        0      1       0       1        0   \n",
       "4  4.627244  ...        0         0        0      1       0       1        0   \n",
       "\n",
       "   appet_poor  pe_yes  ane_yes  \n",
       "0           0       0        0  \n",
       "1           0       0        0  \n",
       "2           1       0        1  \n",
       "3           1       1        1  \n",
       "4           0       0        0  \n",
       "\n",
       "[5 rows x 207 columns]"
      ]
     },
     "execution_count": 19,
     "metadata": {},
     "output_type": "execute_result"
    }
   ],
   "source": [
    "independent_x.head()"
   ]
  },
  {
   "cell_type": "code",
   "execution_count": 20,
   "metadata": {},
   "outputs": [
    {
     "data": {
      "text/plain": [
       "0    1\n",
       "1    1\n",
       "2    1\n",
       "3    1\n",
       "4    1\n",
       "Name: classification_yes, dtype: uint8"
      ]
     },
     "execution_count": 20,
     "metadata": {},
     "output_type": "execute_result"
    }
   ],
   "source": [
    "dependent_y.head()"
   ]
  },
  {
   "cell_type": "code",
   "execution_count": 41,
   "metadata": {},
   "outputs": [],
   "source": [
    "def PrincipleComponentAnalysis(xTrain, xTest, n):\n",
    "    pca = PCA(n_components = n)\n",
    "    xTrain = pca.fit_transform(xTrain)\n",
    "    xTest = pca.transform(xTest)\n",
    "    explanied_variance = pca.explained_variance_ratio_\n",
    "    return xTrain, xTest, explanied_variance"
   ]
  },
  {
   "cell_type": "code",
   "execution_count": 22,
   "metadata": {},
   "outputs": [],
   "source": [
    "def SplitTrainTest(X, Y):\n",
    "    xTrain, xTest, yTrain, yTest = train_test_split(X, Y, test_size = 0.25, random_state = 0)\n",
    "    return xTrain, xTest, yTrain, yTest"
   ]
  },
  {
   "cell_type": "markdown",
   "metadata": {},
   "source": [
    "# Algorithm predication accuracy"
   ]
  },
  {
   "cell_type": "code",
   "execution_count": 27,
   "metadata": {},
   "outputs": [],
   "source": [
    "def cm_prediction(classifier, xTest):\n",
    "    yPred = classifier.predict(xTest)\n",
    "    \n",
    "    from sklearn.metrics import confusion_matrix\n",
    "    cm = confusion_matrix(yTest, yPred)    \n",
    "    \n",
    "    from sklearn.metrics import accuracy_score \n",
    "    from sklearn.metrics import classification_report \n",
    "    \n",
    "    Accuracy=accuracy_score(yTest, yPred )\n",
    "    \n",
    "    report = classification_report(yTest, yPred)\n",
    "    return classifier, Accuracy, report, xTest, yTest, cm"
   ]
  },
  {
   "cell_type": "code",
   "execution_count": 33,
   "metadata": {},
   "outputs": [],
   "source": [
    "# logistic function\n",
    "def logistic(xTrain, yTrain, xTest):\n",
    "    classifier = LogisticRegression(random_state = 0)\n",
    "    classifier.fit(xTrain, yTrain)\n",
    "    classifier, Accuracy, report, xTest, yTest, cm = cm_prediction(classifier, xTest)\n",
    "    return classifier, Accuracy, report, xTest, yTest, cm\n",
    "\n",
    "# support vector classifier (svc)\n",
    "def SVM_linear(xTrain, yTrain, xTest):\n",
    "    classifier = SVC(kernel = 'linear', random_state = 0)\n",
    "    classifier.fit(xTrain, yTrain)\n",
    "    classifier, Accuracy, report, xTest, yTest, cm = cm_prediction(classifier, xTest)\n",
    "    return classifier, Accuracy, report, xTest, yTest, cm\n",
    "\n",
    "# support vector classifier (svc)\n",
    "def SVM_rbf(xTrain, yTrain, xTest):\n",
    "    classifier = SVC(kernel = 'rbf', random_state = 0)\n",
    "    classifier.fit(xTrain, yTrain)\n",
    "    classifier, Accuracy, report, xTest, yTest, cm = cm_prediction(classifier, xTest)\n",
    "    return classifier, Accuracy, report, xTest, yTest, cm\n",
    "\n",
    "# Navie bayes\n",
    "def GaussianNaveiBayes(xTrain, yTrain, xTest):\n",
    "    classifier = GaussianNB()\n",
    "    classifier.fit(xTrain, yTrain)\n",
    "    classifier, Accuracy, report, xTest, yTest, cm = cm_prediction(classifier, xTest)\n",
    "    return classifier, Accuracy, report, xTest, yTest, cm\n",
    "\n",
    "# K nearest neighbour\n",
    "def KNearestNeighbour(xTrain, yTrain, xTest):\n",
    "    classifier = KNeighborsClassifier(n_neighbors = 5, metric = 'minkowski', p = 2)\n",
    "    classifier.fit(xTrain, yTrain)\n",
    "    classifier, Accuracy, report, xTest, yTest, cm = cm_prediction(classifier, xTest)\n",
    "    return classifier, Accuracy, report, xTest, yTest, cm\n",
    "\n",
    "\n",
    "# Decision tree\n",
    "def DecisionTree(xTrain, yTrain, xTest):\n",
    "    classifier = DecisionTreeClassifier(criterion = 'entropy', random_state = 0)\n",
    "    classifier.fit(xTrain, yTrain)\n",
    "    classifier, Accuracy, report, xTest, yTest, cm = cm_prediction(classifier, xTest)\n",
    "    return classifier, Accuracy, report, xTest, yTest, cm\n",
    "\n",
    "# Random forest\n",
    "def randomForest(xTrain, yTrain, xTest):\n",
    "    classifier = RandomForestClassifier(n_estimators = 10, criterion = 'entropy', random_state = 0)\n",
    "    classifier.fit(xTrain, yTrain)\n",
    "    classifier, Accuracy, report, xTest, yTest, cm = cm_prediction(classifier, xTest)\n",
    "    return classifier, Accuracy, report, xTest, yTest, cm"
   ]
  },
  {
   "cell_type": "markdown",
   "metadata": {},
   "source": [
    "# Accuracy "
   ]
  },
  {
   "cell_type": "code",
   "execution_count": 23,
   "metadata": {},
   "outputs": [],
   "source": [
    "accuracyLogistic = []\n",
    "accuracySVMLinear = []\n",
    "accuracySVMrbf = []\n",
    "accuracyGaussianNaveBayes = []\n",
    "accuracyKNearestNeighbour = []\n",
    "accuracyDecisionTree = []\n",
    "accuracyrandomForest = []"
   ]
  },
  {
   "cell_type": "markdown",
   "metadata": {},
   "source": [
    "# first"
   ]
  },
  {
   "cell_type": "code",
   "execution_count": 75,
   "metadata": {},
   "outputs": [],
   "source": [
    "xTrain, xTest, yTrain, yTest = SplitTrainTest(independent_x, dependent_y)"
   ]
  },
  {
   "cell_type": "markdown",
   "metadata": {},
   "source": [
    "# Second"
   ]
  },
  {
   "cell_type": "code",
   "execution_count": 76,
   "metadata": {},
   "outputs": [],
   "source": [
    "xTrain, xTest, explanied_variance = PrincipleComponentAnalysis(xTrain, xTest, 2)"
   ]
  },
  {
   "cell_type": "markdown",
   "metadata": {},
   "source": [
    "# Thrid"
   ]
  },
  {
   "cell_type": "code",
   "execution_count": 77,
   "metadata": {},
   "outputs": [],
   "source": [
    "classifier, Accuracy, report, xTest, yTest, cm = logistic(xTrain, yTrain, xTest)\n",
    "accuracyLogistic.append(Accuracy)\n",
    "\n",
    "classifier, Accuracy, report, xTest, yTest, cm = SVM_linear(xTrain, yTrain, xTest)\n",
    "accuracySVMLinear.append(Accuracy)\n",
    "\n",
    "classifier, Accuracy, report, xTest, yTest, cm = SVM_rbf(xTrain, yTrain, xTest)\n",
    "accuracySVMrbf.append(Accuracy)\n",
    "\n",
    "classifier, Accuracy, report, xTest, yTest, cm = GaussianNaveiBayes(xTrain, yTrain, xTest)\n",
    "accuracyGaussianNaveBayes.append(Accuracy)\n",
    "\n",
    "classifier, Accuracy, report, xTest, yTest, cm = KNearestNeighbour(xTrain, yTrain, xTest)\n",
    "accuracyKNearestNeighbour.append(Accuracy)\n",
    "\n",
    "classifier, Accuracy, report, xTest, yTest, cm = DecisionTree(xTrain, yTrain, xTest)\n",
    "accuracyDecisionTree.append(Accuracy)\n",
    "\n",
    "classifier, Accuracy, report, xTest, yTest, cm = randomForest(xTrain, yTrain, xTest)\n",
    "accuracyrandomForest.append(Accuracy)"
   ]
  },
  {
   "cell_type": "code",
   "execution_count": 78,
   "metadata": {},
   "outputs": [],
   "source": [
    "accuracyValues = [\n",
    "accuracyLogistic,\n",
    "accuracySVMLinear,\n",
    "accuracySVMrbf,\n",
    "accuracyGaussianNaveBayes,\n",
    "accuracyKNearestNeighbour,\n",
    "accuracyDecisionTree,\n",
    "accuracyrandomForest]"
   ]
  },
  {
   "cell_type": "markdown",
   "metadata": {},
   "source": [
    "# fourth "
   ]
  },
  {
   "cell_type": "code",
   "execution_count": 79,
   "metadata": {},
   "outputs": [],
   "source": [
    "def selectkDataFrame(data):\n",
    "    dataFrame = pd.DataFrame(index = ['Principle component anlaysis'], columns = [\"logistic\", 'SVMLinear', 'SVMrbf', 'GaussianNaveBayes', 'KNN', 'DecisionTree', 'RandomForest'])\n",
    "    for x, i in enumerate(dataFrame.columns):\n",
    "        dataFrame[i] = accuracyValues[x][0]\n",
    "    return dataFrame"
   ]
  },
  {
   "cell_type": "code",
   "execution_count": 80,
   "metadata": {},
   "outputs": [],
   "source": [
    "result = selectkDataFrame(accuracyValues)"
   ]
  },
  {
   "cell_type": "code",
   "execution_count": 81,
   "metadata": {},
   "outputs": [
    {
     "data": {
      "text/html": [
       "<div>\n",
       "<style scoped>\n",
       "    .dataframe tbody tr th:only-of-type {\n",
       "        vertical-align: middle;\n",
       "    }\n",
       "\n",
       "    .dataframe tbody tr th {\n",
       "        vertical-align: top;\n",
       "    }\n",
       "\n",
       "    .dataframe thead th {\n",
       "        text-align: right;\n",
       "    }\n",
       "</style>\n",
       "<table border=\"1\" class=\"dataframe\">\n",
       "  <thead>\n",
       "    <tr style=\"text-align: right;\">\n",
       "      <th></th>\n",
       "      <th>logistic</th>\n",
       "      <th>SVMLinear</th>\n",
       "      <th>SVMrbf</th>\n",
       "      <th>GaussianNaveBayes</th>\n",
       "      <th>KNN</th>\n",
       "      <th>DecisionTree</th>\n",
       "      <th>RandomForest</th>\n",
       "    </tr>\n",
       "  </thead>\n",
       "  <tbody>\n",
       "    <tr>\n",
       "      <th>Principle component anlaysis</th>\n",
       "      <td>0.81</td>\n",
       "      <td>0.81</td>\n",
       "      <td>0.87</td>\n",
       "      <td>0.89</td>\n",
       "      <td>0.85</td>\n",
       "      <td>0.78</td>\n",
       "      <td>0.85</td>\n",
       "    </tr>\n",
       "  </tbody>\n",
       "</table>\n",
       "</div>"
      ],
      "text/plain": [
       "                              logistic  SVMLinear  SVMrbf  GaussianNaveBayes  \\\n",
       "Principle component anlaysis      0.81       0.81    0.87               0.89   \n",
       "\n",
       "                               KNN  DecisionTree  RandomForest  \n",
       "Principle component anlaysis  0.85          0.78          0.85  "
      ]
     },
     "execution_count": 81,
     "metadata": {},
     "output_type": "execute_result"
    }
   ],
   "source": [
    "result"
   ]
  },
  {
   "cell_type": "code",
   "execution_count": null,
   "metadata": {},
   "outputs": [],
   "source": []
  },
  {
   "cell_type": "code",
   "execution_count": null,
   "metadata": {},
   "outputs": [],
   "source": []
  }
 ],
 "metadata": {
  "kernelspec": {
   "display_name": "Python 3",
   "language": "python",
   "name": "python3"
  },
  "language_info": {
   "codemirror_mode": {
    "name": "ipython",
    "version": 3
   },
   "file_extension": ".py",
   "mimetype": "text/x-python",
   "name": "python",
   "nbconvert_exporter": "python",
   "pygments_lexer": "ipython3",
   "version": "3.7.4"
  }
 },
 "nbformat": 4,
 "nbformat_minor": 5
}
