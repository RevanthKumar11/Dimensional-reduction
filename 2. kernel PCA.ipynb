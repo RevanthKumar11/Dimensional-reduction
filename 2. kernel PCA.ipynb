{
 "cells": [
  {
   "cell_type": "code",
   "execution_count": 1,
   "metadata": {},
   "outputs": [],
   "source": [
    "import pandas as pd"
   ]
  },
  {
   "cell_type": "code",
   "execution_count": 2,
   "metadata": {},
   "outputs": [],
   "source": [
    "# Kernel PCA \n",
    "from sklearn.decomposition import KernelPCA"
   ]
  },
  {
   "cell_type": "code",
   "execution_count": 3,
   "metadata": {},
   "outputs": [],
   "source": [
    "# Split the train and test\n",
    "from sklearn.model_selection import train_test_split"
   ]
  },
  {
   "cell_type": "code",
   "execution_count": 4,
   "metadata": {},
   "outputs": [],
   "source": [
    "# standardScaler\n",
    "from sklearn.preprocessing import StandardScaler"
   ]
  },
  {
   "cell_type": "code",
   "execution_count": 5,
   "metadata": {},
   "outputs": [],
   "source": [
    "# Machine learning algorithms for categorical \n",
    "\n",
    "from sklearn.linear_model import LogisticRegression # this name is logisticRegression but it support the classification problems\n",
    "from sklearn.svm import SVC # Support vector classifier\n",
    "from sklearn.naive_bayes import GaussianNB # Gaussian naive bayes\n",
    "from sklearn.neighbors import KNeighborsClassifier # KNN neighbors classifier\n",
    "from sklearn.tree import DecisionTreeClassifier # Decision Tree Classifier\n",
    "from sklearn.ensemble import RandomForestClassifier # Random forest classifier"
   ]
  },
  {
   "cell_type": "markdown",
   "metadata": {},
   "source": [
    "# load the dataSet"
   ]
  },
  {
   "cell_type": "code",
   "execution_count": 6,
   "metadata": {},
   "outputs": [],
   "source": [
    "dataSet = pd.read_csv('CKD.csv')"
   ]
  },
  {
   "cell_type": "code",
   "execution_count": 7,
   "metadata": {},
   "outputs": [
    {
     "data": {
      "text/html": [
       "<div>\n",
       "<style scoped>\n",
       "    .dataframe tbody tr th:only-of-type {\n",
       "        vertical-align: middle;\n",
       "    }\n",
       "\n",
       "    .dataframe tbody tr th {\n",
       "        vertical-align: top;\n",
       "    }\n",
       "\n",
       "    .dataframe thead th {\n",
       "        text-align: right;\n",
       "    }\n",
       "</style>\n",
       "<table border=\"1\" class=\"dataframe\">\n",
       "  <thead>\n",
       "    <tr style=\"text-align: right;\">\n",
       "      <th></th>\n",
       "      <th>age</th>\n",
       "      <th>bp</th>\n",
       "      <th>sg</th>\n",
       "      <th>al</th>\n",
       "      <th>su</th>\n",
       "      <th>bgr</th>\n",
       "      <th>bu</th>\n",
       "      <th>sc</th>\n",
       "      <th>sod</th>\n",
       "      <th>pot</th>\n",
       "      <th>...</th>\n",
       "      <th>pcv</th>\n",
       "      <th>wc</th>\n",
       "      <th>rc</th>\n",
       "      <th>htn</th>\n",
       "      <th>dm</th>\n",
       "      <th>cad</th>\n",
       "      <th>appet</th>\n",
       "      <th>pe</th>\n",
       "      <th>ane</th>\n",
       "      <th>classification</th>\n",
       "    </tr>\n",
       "  </thead>\n",
       "  <tbody>\n",
       "    <tr>\n",
       "      <td>0</td>\n",
       "      <td>48.0</td>\n",
       "      <td>80.0</td>\n",
       "      <td>1.0200</td>\n",
       "      <td>1.0</td>\n",
       "      <td>0.000000</td>\n",
       "      <td>121.000000</td>\n",
       "      <td>36.0</td>\n",
       "      <td>1.2</td>\n",
       "      <td>137.528754</td>\n",
       "      <td>4.627244</td>\n",
       "      <td>...</td>\n",
       "      <td>44</td>\n",
       "      <td>7800</td>\n",
       "      <td>5.2</td>\n",
       "      <td>yes</td>\n",
       "      <td>yes</td>\n",
       "      <td>no</td>\n",
       "      <td>good</td>\n",
       "      <td>no</td>\n",
       "      <td>no</td>\n",
       "      <td>ckd</td>\n",
       "    </tr>\n",
       "    <tr>\n",
       "      <td>1</td>\n",
       "      <td>9.0</td>\n",
       "      <td>55.0</td>\n",
       "      <td>1.0200</td>\n",
       "      <td>4.0</td>\n",
       "      <td>0.000000</td>\n",
       "      <td>148.036517</td>\n",
       "      <td>18.0</td>\n",
       "      <td>0.8</td>\n",
       "      <td>137.528754</td>\n",
       "      <td>4.627244</td>\n",
       "      <td>...</td>\n",
       "      <td>38</td>\n",
       "      <td>6000</td>\n",
       "      <td>5.2</td>\n",
       "      <td>no</td>\n",
       "      <td>no</td>\n",
       "      <td>no</td>\n",
       "      <td>good</td>\n",
       "      <td>no</td>\n",
       "      <td>no</td>\n",
       "      <td>ckd</td>\n",
       "    </tr>\n",
       "    <tr>\n",
       "      <td>2</td>\n",
       "      <td>62.0</td>\n",
       "      <td>80.0</td>\n",
       "      <td>1.0100</td>\n",
       "      <td>2.0</td>\n",
       "      <td>1.125356</td>\n",
       "      <td>223.500000</td>\n",
       "      <td>53.0</td>\n",
       "      <td>1.8</td>\n",
       "      <td>137.528754</td>\n",
       "      <td>4.627244</td>\n",
       "      <td>...</td>\n",
       "      <td>31</td>\n",
       "      <td>7500</td>\n",
       "      <td>5.2</td>\n",
       "      <td>no</td>\n",
       "      <td>yes</td>\n",
       "      <td>no</td>\n",
       "      <td>poor</td>\n",
       "      <td>no</td>\n",
       "      <td>yes</td>\n",
       "      <td>ckd</td>\n",
       "    </tr>\n",
       "    <tr>\n",
       "      <td>3</td>\n",
       "      <td>48.0</td>\n",
       "      <td>70.0</td>\n",
       "      <td>1.0075</td>\n",
       "      <td>4.0</td>\n",
       "      <td>0.000000</td>\n",
       "      <td>117.000000</td>\n",
       "      <td>56.0</td>\n",
       "      <td>3.8</td>\n",
       "      <td>126.000000</td>\n",
       "      <td>2.800000</td>\n",
       "      <td>...</td>\n",
       "      <td>32</td>\n",
       "      <td>6700</td>\n",
       "      <td>3.9</td>\n",
       "      <td>yes</td>\n",
       "      <td>no</td>\n",
       "      <td>no</td>\n",
       "      <td>poor</td>\n",
       "      <td>yes</td>\n",
       "      <td>yes</td>\n",
       "      <td>ckd</td>\n",
       "    </tr>\n",
       "    <tr>\n",
       "      <td>4</td>\n",
       "      <td>51.0</td>\n",
       "      <td>80.0</td>\n",
       "      <td>1.0100</td>\n",
       "      <td>2.0</td>\n",
       "      <td>0.000000</td>\n",
       "      <td>106.000000</td>\n",
       "      <td>26.0</td>\n",
       "      <td>1.4</td>\n",
       "      <td>137.528754</td>\n",
       "      <td>4.627244</td>\n",
       "      <td>...</td>\n",
       "      <td>35</td>\n",
       "      <td>7300</td>\n",
       "      <td>4.6</td>\n",
       "      <td>no</td>\n",
       "      <td>no</td>\n",
       "      <td>no</td>\n",
       "      <td>good</td>\n",
       "      <td>no</td>\n",
       "      <td>no</td>\n",
       "      <td>ckd</td>\n",
       "    </tr>\n",
       "  </tbody>\n",
       "</table>\n",
       "<p>5 rows × 25 columns</p>\n",
       "</div>"
      ],
      "text/plain": [
       "    age    bp      sg   al        su         bgr    bu   sc         sod  \\\n",
       "0  48.0  80.0  1.0200  1.0  0.000000  121.000000  36.0  1.2  137.528754   \n",
       "1   9.0  55.0  1.0200  4.0  0.000000  148.036517  18.0  0.8  137.528754   \n",
       "2  62.0  80.0  1.0100  2.0  1.125356  223.500000  53.0  1.8  137.528754   \n",
       "3  48.0  70.0  1.0075  4.0  0.000000  117.000000  56.0  3.8  126.000000   \n",
       "4  51.0  80.0  1.0100  2.0  0.000000  106.000000  26.0  1.4  137.528754   \n",
       "\n",
       "        pot  ...  pcv    wc   rc  htn   dm cad appet   pe  ane classification  \n",
       "0  4.627244  ...   44  7800  5.2  yes  yes  no  good   no   no            ckd  \n",
       "1  4.627244  ...   38  6000  5.2   no   no  no  good   no   no            ckd  \n",
       "2  4.627244  ...   31  7500  5.2   no  yes  no  poor   no  yes            ckd  \n",
       "3  2.800000  ...   32  6700  3.9  yes   no  no  poor  yes  yes            ckd  \n",
       "4  4.627244  ...   35  7300  4.6   no   no  no  good   no   no            ckd  \n",
       "\n",
       "[5 rows x 25 columns]"
      ]
     },
     "execution_count": 7,
     "metadata": {},
     "output_type": "execute_result"
    }
   ],
   "source": [
    "dataSet.head()"
   ]
  },
  {
   "cell_type": "code",
   "execution_count": 8,
   "metadata": {},
   "outputs": [
    {
     "data": {
      "text/plain": [
       "ckd       248\n",
       "notckd    150\n",
       "ckd\\t       2\n",
       "Name: classification, dtype: int64"
      ]
     },
     "execution_count": 8,
     "metadata": {},
     "output_type": "execute_result"
    }
   ],
   "source": [
    "dataSet['classification'].value_counts()"
   ]
  },
  {
   "cell_type": "code",
   "execution_count": 9,
   "metadata": {},
   "outputs": [],
   "source": [
    "dataSet.loc[dataSet['classification'] == 'ckd', 'classification'] = 'yes'\n",
    "dataSet.loc[dataSet['classification'] == 'ckd\\t', 'classification'] = 'yes'\n",
    "dataSet.loc[dataSet['classification'] == 'notckd', 'classification'] = 'no'"
   ]
  },
  {
   "cell_type": "code",
   "execution_count": 10,
   "metadata": {},
   "outputs": [
    {
     "data": {
      "text/plain": [
       "yes    250\n",
       "no     150\n",
       "Name: classification, dtype: int64"
      ]
     },
     "execution_count": 10,
     "metadata": {},
     "output_type": "execute_result"
    }
   ],
   "source": [
    "dataSet['classification'].value_counts()"
   ]
  },
  {
   "cell_type": "code",
   "execution_count": 11,
   "metadata": {},
   "outputs": [],
   "source": [
    "dataSet = pd.get_dummies(dataSet, drop_first = True)"
   ]
  },
  {
   "cell_type": "code",
   "execution_count": 12,
   "metadata": {},
   "outputs": [
    {
     "data": {
      "text/html": [
       "<div>\n",
       "<style scoped>\n",
       "    .dataframe tbody tr th:only-of-type {\n",
       "        vertical-align: middle;\n",
       "    }\n",
       "\n",
       "    .dataframe tbody tr th {\n",
       "        vertical-align: top;\n",
       "    }\n",
       "\n",
       "    .dataframe thead th {\n",
       "        text-align: right;\n",
       "    }\n",
       "</style>\n",
       "<table border=\"1\" class=\"dataframe\">\n",
       "  <thead>\n",
       "    <tr style=\"text-align: right;\">\n",
       "      <th></th>\n",
       "      <th>age</th>\n",
       "      <th>bp</th>\n",
       "      <th>sg</th>\n",
       "      <th>al</th>\n",
       "      <th>su</th>\n",
       "      <th>bgr</th>\n",
       "      <th>bu</th>\n",
       "      <th>sc</th>\n",
       "      <th>sod</th>\n",
       "      <th>pot</th>\n",
       "      <th>...</th>\n",
       "      <th>dm_\\tyes</th>\n",
       "      <th>dm_ yes</th>\n",
       "      <th>dm_no</th>\n",
       "      <th>dm_yes</th>\n",
       "      <th>cad_no</th>\n",
       "      <th>cad_yes</th>\n",
       "      <th>appet_poor</th>\n",
       "      <th>pe_yes</th>\n",
       "      <th>ane_yes</th>\n",
       "      <th>classification_yes</th>\n",
       "    </tr>\n",
       "  </thead>\n",
       "  <tbody>\n",
       "    <tr>\n",
       "      <td>0</td>\n",
       "      <td>48.0</td>\n",
       "      <td>80.0</td>\n",
       "      <td>1.0200</td>\n",
       "      <td>1.0</td>\n",
       "      <td>0.000000</td>\n",
       "      <td>121.000000</td>\n",
       "      <td>36.0</td>\n",
       "      <td>1.2</td>\n",
       "      <td>137.528754</td>\n",
       "      <td>4.627244</td>\n",
       "      <td>...</td>\n",
       "      <td>0</td>\n",
       "      <td>0</td>\n",
       "      <td>0</td>\n",
       "      <td>1</td>\n",
       "      <td>1</td>\n",
       "      <td>0</td>\n",
       "      <td>0</td>\n",
       "      <td>0</td>\n",
       "      <td>0</td>\n",
       "      <td>1</td>\n",
       "    </tr>\n",
       "    <tr>\n",
       "      <td>1</td>\n",
       "      <td>9.0</td>\n",
       "      <td>55.0</td>\n",
       "      <td>1.0200</td>\n",
       "      <td>4.0</td>\n",
       "      <td>0.000000</td>\n",
       "      <td>148.036517</td>\n",
       "      <td>18.0</td>\n",
       "      <td>0.8</td>\n",
       "      <td>137.528754</td>\n",
       "      <td>4.627244</td>\n",
       "      <td>...</td>\n",
       "      <td>0</td>\n",
       "      <td>0</td>\n",
       "      <td>1</td>\n",
       "      <td>0</td>\n",
       "      <td>1</td>\n",
       "      <td>0</td>\n",
       "      <td>0</td>\n",
       "      <td>0</td>\n",
       "      <td>0</td>\n",
       "      <td>1</td>\n",
       "    </tr>\n",
       "    <tr>\n",
       "      <td>2</td>\n",
       "      <td>62.0</td>\n",
       "      <td>80.0</td>\n",
       "      <td>1.0100</td>\n",
       "      <td>2.0</td>\n",
       "      <td>1.125356</td>\n",
       "      <td>223.500000</td>\n",
       "      <td>53.0</td>\n",
       "      <td>1.8</td>\n",
       "      <td>137.528754</td>\n",
       "      <td>4.627244</td>\n",
       "      <td>...</td>\n",
       "      <td>0</td>\n",
       "      <td>0</td>\n",
       "      <td>0</td>\n",
       "      <td>1</td>\n",
       "      <td>1</td>\n",
       "      <td>0</td>\n",
       "      <td>1</td>\n",
       "      <td>0</td>\n",
       "      <td>1</td>\n",
       "      <td>1</td>\n",
       "    </tr>\n",
       "    <tr>\n",
       "      <td>3</td>\n",
       "      <td>48.0</td>\n",
       "      <td>70.0</td>\n",
       "      <td>1.0075</td>\n",
       "      <td>4.0</td>\n",
       "      <td>0.000000</td>\n",
       "      <td>117.000000</td>\n",
       "      <td>56.0</td>\n",
       "      <td>3.8</td>\n",
       "      <td>126.000000</td>\n",
       "      <td>2.800000</td>\n",
       "      <td>...</td>\n",
       "      <td>0</td>\n",
       "      <td>0</td>\n",
       "      <td>1</td>\n",
       "      <td>0</td>\n",
       "      <td>1</td>\n",
       "      <td>0</td>\n",
       "      <td>1</td>\n",
       "      <td>1</td>\n",
       "      <td>1</td>\n",
       "      <td>1</td>\n",
       "    </tr>\n",
       "    <tr>\n",
       "      <td>4</td>\n",
       "      <td>51.0</td>\n",
       "      <td>80.0</td>\n",
       "      <td>1.0100</td>\n",
       "      <td>2.0</td>\n",
       "      <td>0.000000</td>\n",
       "      <td>106.000000</td>\n",
       "      <td>26.0</td>\n",
       "      <td>1.4</td>\n",
       "      <td>137.528754</td>\n",
       "      <td>4.627244</td>\n",
       "      <td>...</td>\n",
       "      <td>0</td>\n",
       "      <td>0</td>\n",
       "      <td>1</td>\n",
       "      <td>0</td>\n",
       "      <td>1</td>\n",
       "      <td>0</td>\n",
       "      <td>0</td>\n",
       "      <td>0</td>\n",
       "      <td>0</td>\n",
       "      <td>1</td>\n",
       "    </tr>\n",
       "  </tbody>\n",
       "</table>\n",
       "<p>5 rows × 208 columns</p>\n",
       "</div>"
      ],
      "text/plain": [
       "    age    bp      sg   al        su         bgr    bu   sc         sod  \\\n",
       "0  48.0  80.0  1.0200  1.0  0.000000  121.000000  36.0  1.2  137.528754   \n",
       "1   9.0  55.0  1.0200  4.0  0.000000  148.036517  18.0  0.8  137.528754   \n",
       "2  62.0  80.0  1.0100  2.0  1.125356  223.500000  53.0  1.8  137.528754   \n",
       "3  48.0  70.0  1.0075  4.0  0.000000  117.000000  56.0  3.8  126.000000   \n",
       "4  51.0  80.0  1.0100  2.0  0.000000  106.000000  26.0  1.4  137.528754   \n",
       "\n",
       "        pot  ...  dm_\\tyes  dm_ yes  dm_no  dm_yes  cad_no  cad_yes  \\\n",
       "0  4.627244  ...         0        0      0       1       1        0   \n",
       "1  4.627244  ...         0        0      1       0       1        0   \n",
       "2  4.627244  ...         0        0      0       1       1        0   \n",
       "3  2.800000  ...         0        0      1       0       1        0   \n",
       "4  4.627244  ...         0        0      1       0       1        0   \n",
       "\n",
       "   appet_poor  pe_yes  ane_yes  classification_yes  \n",
       "0           0       0        0                   1  \n",
       "1           0       0        0                   1  \n",
       "2           1       0        1                   1  \n",
       "3           1       1        1                   1  \n",
       "4           0       0        0                   1  \n",
       "\n",
       "[5 rows x 208 columns]"
      ]
     },
     "execution_count": 12,
     "metadata": {},
     "output_type": "execute_result"
    }
   ],
   "source": [
    "dataSet.head()"
   ]
  },
  {
   "cell_type": "code",
   "execution_count": 13,
   "metadata": {},
   "outputs": [],
   "source": [
    "# X\n",
    "independent = dataSet.iloc[:, :len(dataSet.columns)-1]"
   ]
  },
  {
   "cell_type": "code",
   "execution_count": 14,
   "metadata": {},
   "outputs": [
    {
     "data": {
      "text/html": [
       "<div>\n",
       "<style scoped>\n",
       "    .dataframe tbody tr th:only-of-type {\n",
       "        vertical-align: middle;\n",
       "    }\n",
       "\n",
       "    .dataframe tbody tr th {\n",
       "        vertical-align: top;\n",
       "    }\n",
       "\n",
       "    .dataframe thead th {\n",
       "        text-align: right;\n",
       "    }\n",
       "</style>\n",
       "<table border=\"1\" class=\"dataframe\">\n",
       "  <thead>\n",
       "    <tr style=\"text-align: right;\">\n",
       "      <th></th>\n",
       "      <th>age</th>\n",
       "      <th>bp</th>\n",
       "      <th>sg</th>\n",
       "      <th>al</th>\n",
       "      <th>su</th>\n",
       "      <th>bgr</th>\n",
       "      <th>bu</th>\n",
       "      <th>sc</th>\n",
       "      <th>sod</th>\n",
       "      <th>pot</th>\n",
       "      <th>...</th>\n",
       "      <th>htn_yes</th>\n",
       "      <th>dm_\\tyes</th>\n",
       "      <th>dm_ yes</th>\n",
       "      <th>dm_no</th>\n",
       "      <th>dm_yes</th>\n",
       "      <th>cad_no</th>\n",
       "      <th>cad_yes</th>\n",
       "      <th>appet_poor</th>\n",
       "      <th>pe_yes</th>\n",
       "      <th>ane_yes</th>\n",
       "    </tr>\n",
       "  </thead>\n",
       "  <tbody>\n",
       "    <tr>\n",
       "      <td>0</td>\n",
       "      <td>48.0</td>\n",
       "      <td>80.0</td>\n",
       "      <td>1.0200</td>\n",
       "      <td>1.0</td>\n",
       "      <td>0.000000</td>\n",
       "      <td>121.000000</td>\n",
       "      <td>36.0</td>\n",
       "      <td>1.2</td>\n",
       "      <td>137.528754</td>\n",
       "      <td>4.627244</td>\n",
       "      <td>...</td>\n",
       "      <td>1</td>\n",
       "      <td>0</td>\n",
       "      <td>0</td>\n",
       "      <td>0</td>\n",
       "      <td>1</td>\n",
       "      <td>1</td>\n",
       "      <td>0</td>\n",
       "      <td>0</td>\n",
       "      <td>0</td>\n",
       "      <td>0</td>\n",
       "    </tr>\n",
       "    <tr>\n",
       "      <td>1</td>\n",
       "      <td>9.0</td>\n",
       "      <td>55.0</td>\n",
       "      <td>1.0200</td>\n",
       "      <td>4.0</td>\n",
       "      <td>0.000000</td>\n",
       "      <td>148.036517</td>\n",
       "      <td>18.0</td>\n",
       "      <td>0.8</td>\n",
       "      <td>137.528754</td>\n",
       "      <td>4.627244</td>\n",
       "      <td>...</td>\n",
       "      <td>0</td>\n",
       "      <td>0</td>\n",
       "      <td>0</td>\n",
       "      <td>1</td>\n",
       "      <td>0</td>\n",
       "      <td>1</td>\n",
       "      <td>0</td>\n",
       "      <td>0</td>\n",
       "      <td>0</td>\n",
       "      <td>0</td>\n",
       "    </tr>\n",
       "    <tr>\n",
       "      <td>2</td>\n",
       "      <td>62.0</td>\n",
       "      <td>80.0</td>\n",
       "      <td>1.0100</td>\n",
       "      <td>2.0</td>\n",
       "      <td>1.125356</td>\n",
       "      <td>223.500000</td>\n",
       "      <td>53.0</td>\n",
       "      <td>1.8</td>\n",
       "      <td>137.528754</td>\n",
       "      <td>4.627244</td>\n",
       "      <td>...</td>\n",
       "      <td>0</td>\n",
       "      <td>0</td>\n",
       "      <td>0</td>\n",
       "      <td>0</td>\n",
       "      <td>1</td>\n",
       "      <td>1</td>\n",
       "      <td>0</td>\n",
       "      <td>1</td>\n",
       "      <td>0</td>\n",
       "      <td>1</td>\n",
       "    </tr>\n",
       "    <tr>\n",
       "      <td>3</td>\n",
       "      <td>48.0</td>\n",
       "      <td>70.0</td>\n",
       "      <td>1.0075</td>\n",
       "      <td>4.0</td>\n",
       "      <td>0.000000</td>\n",
       "      <td>117.000000</td>\n",
       "      <td>56.0</td>\n",
       "      <td>3.8</td>\n",
       "      <td>126.000000</td>\n",
       "      <td>2.800000</td>\n",
       "      <td>...</td>\n",
       "      <td>1</td>\n",
       "      <td>0</td>\n",
       "      <td>0</td>\n",
       "      <td>1</td>\n",
       "      <td>0</td>\n",
       "      <td>1</td>\n",
       "      <td>0</td>\n",
       "      <td>1</td>\n",
       "      <td>1</td>\n",
       "      <td>1</td>\n",
       "    </tr>\n",
       "    <tr>\n",
       "      <td>4</td>\n",
       "      <td>51.0</td>\n",
       "      <td>80.0</td>\n",
       "      <td>1.0100</td>\n",
       "      <td>2.0</td>\n",
       "      <td>0.000000</td>\n",
       "      <td>106.000000</td>\n",
       "      <td>26.0</td>\n",
       "      <td>1.4</td>\n",
       "      <td>137.528754</td>\n",
       "      <td>4.627244</td>\n",
       "      <td>...</td>\n",
       "      <td>0</td>\n",
       "      <td>0</td>\n",
       "      <td>0</td>\n",
       "      <td>1</td>\n",
       "      <td>0</td>\n",
       "      <td>1</td>\n",
       "      <td>0</td>\n",
       "      <td>0</td>\n",
       "      <td>0</td>\n",
       "      <td>0</td>\n",
       "    </tr>\n",
       "  </tbody>\n",
       "</table>\n",
       "<p>5 rows × 207 columns</p>\n",
       "</div>"
      ],
      "text/plain": [
       "    age    bp      sg   al        su         bgr    bu   sc         sod  \\\n",
       "0  48.0  80.0  1.0200  1.0  0.000000  121.000000  36.0  1.2  137.528754   \n",
       "1   9.0  55.0  1.0200  4.0  0.000000  148.036517  18.0  0.8  137.528754   \n",
       "2  62.0  80.0  1.0100  2.0  1.125356  223.500000  53.0  1.8  137.528754   \n",
       "3  48.0  70.0  1.0075  4.0  0.000000  117.000000  56.0  3.8  126.000000   \n",
       "4  51.0  80.0  1.0100  2.0  0.000000  106.000000  26.0  1.4  137.528754   \n",
       "\n",
       "        pot  ...  htn_yes  dm_\\tyes  dm_ yes  dm_no  dm_yes  cad_no  cad_yes  \\\n",
       "0  4.627244  ...        1         0        0      0       1       1        0   \n",
       "1  4.627244  ...        0         0        0      1       0       1        0   \n",
       "2  4.627244  ...        0         0        0      0       1       1        0   \n",
       "3  2.800000  ...        1         0        0      1       0       1        0   \n",
       "4  4.627244  ...        0         0        0      1       0       1        0   \n",
       "\n",
       "   appet_poor  pe_yes  ane_yes  \n",
       "0           0       0        0  \n",
       "1           0       0        0  \n",
       "2           1       0        1  \n",
       "3           1       1        1  \n",
       "4           0       0        0  \n",
       "\n",
       "[5 rows x 207 columns]"
      ]
     },
     "execution_count": 14,
     "metadata": {},
     "output_type": "execute_result"
    }
   ],
   "source": [
    "independent.head()"
   ]
  },
  {
   "cell_type": "code",
   "execution_count": 15,
   "metadata": {},
   "outputs": [],
   "source": [
    "# y\n",
    "dependent = dataSet['classification_yes']"
   ]
  },
  {
   "cell_type": "code",
   "execution_count": 16,
   "metadata": {},
   "outputs": [
    {
     "data": {
      "text/plain": [
       "0    1\n",
       "1    1\n",
       "2    1\n",
       "3    1\n",
       "4    1\n",
       "Name: classification_yes, dtype: uint8"
      ]
     },
     "execution_count": 16,
     "metadata": {},
     "output_type": "execute_result"
    }
   ],
   "source": [
    "dependent.head()"
   ]
  },
  {
   "cell_type": "code",
   "execution_count": 17,
   "metadata": {},
   "outputs": [],
   "source": [
    "independent = independent.values\n",
    "dependent = dependent.values"
   ]
  },
  {
   "cell_type": "markdown",
   "metadata": {},
   "source": [
    "# split the train and test"
   ]
  },
  {
   "cell_type": "code",
   "execution_count": 18,
   "metadata": {},
   "outputs": [],
   "source": [
    "def SplitTrainTest(independent, dependent):\n",
    "    xTrain, xTest, yTrain, yTest = train_test_split(independent, dependent, test_size = 0.25, random_state = 0)\n",
    "    return xTrain, xTest, yTrain, yTest"
   ]
  },
  {
   "cell_type": "markdown",
   "metadata": {},
   "source": [
    "# Standard scaler "
   ]
  },
  {
   "cell_type": "code",
   "execution_count": 19,
   "metadata": {},
   "outputs": [],
   "source": [
    "def Standard_Scaler(xTrain, xTest):\n",
    "    sc = StandardScaler()\n",
    "    xTrain = sc.fit_transform(xTrain)\n",
    "    xTest = sc.transform(xTest)\n",
    "    return xTrain, xTest"
   ]
  },
  {
   "cell_type": "markdown",
   "metadata": {},
   "source": [
    "# Linear discriminant analysis"
   ]
  },
  {
   "cell_type": "code",
   "execution_count": 20,
   "metadata": {},
   "outputs": [],
   "source": [
    "def Kernel_PCA(xTrain, xTest):\n",
    "    kpca = KernelPCA(n_components = 2, kernel='rbf')\n",
    "    xTrain = kpca.fit_transform(xTrain)\n",
    "    xTest = kpca.transform(xTest)\n",
    "    return xTrain, xTest"
   ]
  },
  {
   "cell_type": "code",
   "execution_count": 21,
   "metadata": {},
   "outputs": [],
   "source": [
    "# accuracy container\n",
    "accuracyLogistic = []\n",
    "accuracySVMLinear = []\n",
    "accuracySVMrbf = []\n",
    "accuracyGaussianNaveBayes = []\n",
    "accuracyKNearestNeighbour = []\n",
    "accuracyDecisionTree = []\n",
    "accuracyrandomForest = []"
   ]
  },
  {
   "cell_type": "markdown",
   "metadata": {},
   "source": [
    "# Algorithm predication accuracy"
   ]
  },
  {
   "cell_type": "code",
   "execution_count": 22,
   "metadata": {},
   "outputs": [],
   "source": [
    "def cm_prediction(classifier, xTest):\n",
    "    yPred = classifier.predict(xTest)\n",
    "    \n",
    "    from sklearn.metrics import confusion_matrix\n",
    "    cm = confusion_matrix(yTest, yPred)    \n",
    "    \n",
    "    from sklearn.metrics import accuracy_score \n",
    "    from sklearn.metrics import classification_report \n",
    "    \n",
    "    Accuracy=accuracy_score(yTest, yPred )\n",
    "    \n",
    "    report = classification_report(yTest, yPred)\n",
    "    return classifier, Accuracy, report, xTest, yTest, cm"
   ]
  },
  {
   "cell_type": "markdown",
   "metadata": {},
   "source": [
    "# Model creation"
   ]
  },
  {
   "cell_type": "code",
   "execution_count": 23,
   "metadata": {},
   "outputs": [],
   "source": [
    "# logistic function\n",
    "def logistic(xTrain, yTrain, xTest):\n",
    "    classifier = LogisticRegression(random_state = 0)\n",
    "    classifier.fit(xTrain, yTrain)\n",
    "    classifier, Accuracy, report, xTest, yTest, cm = cm_prediction(classifier, xTest)\n",
    "    return classifier, Accuracy, report, xTest, yTest, cm\n",
    "\n",
    "# support vector classifier (svc)\n",
    "def SVM_linear(xTrain, yTrain, xTest):\n",
    "    classifier = SVC(kernel = 'linear', random_state = 0)\n",
    "    classifier.fit(xTrain, yTrain)\n",
    "    classifier, Accuracy, report, xTest, yTest, cm = cm_prediction(classifier, xTest)\n",
    "    return classifier, Accuracy, report, xTest, yTest, cm\n",
    "\n",
    "# support vector classifier (svc)\n",
    "def SVM_rbf(xTrain, yTrain, xTest):\n",
    "    classifier = SVC(kernel = 'rbf', random_state = 0)\n",
    "    classifier.fit(xTrain, yTrain)\n",
    "    classifier, Accuracy, report, xTest, yTest, cm = cm_prediction(classifier, xTest)\n",
    "    return classifier, Accuracy, report, xTest, yTest, cm\n",
    "\n",
    "# Navie bayes\n",
    "def GaussianNaveiBayes(xTrain, yTrain, xTest):\n",
    "    classifier = GaussianNB()\n",
    "    classifier.fit(xTrain, yTrain)\n",
    "    classifier, Accuracy, report, xTest, yTest, cm = cm_prediction(classifier, xTest)\n",
    "    return classifier, Accuracy, report, xTest, yTest, cm\n",
    "\n",
    "# K nearest neighbour\n",
    "def KNearestNeighbour(xTrain, yTrain, xTest):\n",
    "    classifier = KNeighborsClassifier(n_neighbors = 5, metric = 'minkowski', p = 2)\n",
    "    classifier.fit(xTrain, yTrain)\n",
    "    classifier, Accuracy, report, xTest, yTest, cm = cm_prediction(classifier, xTest)\n",
    "    return classifier, Accuracy, report, xTest, yTest, cm\n",
    "\n",
    "\n",
    "# Decision tree\n",
    "def DecisionTree(xTrain, yTrain, xTest):\n",
    "    classifier = DecisionTreeClassifier(criterion = 'entropy', random_state = 0)\n",
    "    classifier.fit(xTrain, yTrain)\n",
    "    classifier, Accuracy, report, xTest, yTest, cm = cm_prediction(classifier, xTest)\n",
    "    return classifier, Accuracy, report, xTest, yTest, cm\n",
    "\n",
    "# Random forest\n",
    "def randomForest(xTrain, yTrain, xTest):\n",
    "    classifier = RandomForestClassifier(n_estimators = 10, criterion = 'entropy', random_state = 0)\n",
    "    classifier.fit(xTrain, yTrain)\n",
    "    classifier, Accuracy, report, xTest, yTest, cm = cm_prediction(classifier, xTest)\n",
    "    return classifier, Accuracy, report, xTest, yTest, cm"
   ]
  },
  {
   "cell_type": "markdown",
   "metadata": {},
   "source": [
    "# First split the train and test"
   ]
  },
  {
   "cell_type": "code",
   "execution_count": 24,
   "metadata": {},
   "outputs": [],
   "source": [
    "xTrain, xTest, yTrain, yTest = SplitTrainTest(independent, dependent)"
   ]
  },
  {
   "cell_type": "markdown",
   "metadata": {},
   "source": [
    "# Second change the value into standardscaler "
   ]
  },
  {
   "cell_type": "code",
   "execution_count": 25,
   "metadata": {},
   "outputs": [],
   "source": [
    "xTrain, xTest = Standard_Scaler(xTrain, xTest)"
   ]
  },
  {
   "cell_type": "markdown",
   "metadata": {},
   "source": [
    "# Third Linear Discriminant Analysis"
   ]
  },
  {
   "cell_type": "code",
   "execution_count": 26,
   "metadata": {},
   "outputs": [],
   "source": [
    "xTrain, xTest = Kernel_PCA(xTrain, xTest)"
   ]
  },
  {
   "cell_type": "markdown",
   "metadata": {},
   "source": [
    "# Fourth  model"
   ]
  },
  {
   "cell_type": "code",
   "execution_count": 27,
   "metadata": {},
   "outputs": [
    {
     "name": "stderr",
     "output_type": "stream",
     "text": [
      "C:\\Users\\REVANTH KUMAR\\Anaconda3\\lib\\site-packages\\sklearn\\linear_model\\logistic.py:432: FutureWarning: Default solver will be changed to 'lbfgs' in 0.22. Specify a solver to silence this warning.\n",
      "  FutureWarning)\n",
      "C:\\Users\\REVANTH KUMAR\\Anaconda3\\lib\\site-packages\\sklearn\\svm\\base.py:193: FutureWarning: The default value of gamma will change from 'auto' to 'scale' in version 0.22 to account better for unscaled features. Set gamma explicitly to 'auto' or 'scale' to avoid this warning.\n",
      "  \"avoid this warning.\", FutureWarning)\n"
     ]
    }
   ],
   "source": [
    "classifier, Accuracy, report, xTest, yTest, cm = logistic(xTrain, yTrain, xTest)\n",
    "accuracyLogistic.append(Accuracy)\n",
    "\n",
    "classifier, Accuracy, report, xTest, yTest, cm = SVM_linear(xTrain, yTrain, xTest)\n",
    "accuracySVMLinear.append(Accuracy)\n",
    "\n",
    "classifier, Accuracy, report, xTest, yTest, cm = SVM_rbf(xTrain, yTrain, xTest)\n",
    "accuracySVMrbf.append(Accuracy)\n",
    "\n",
    "classifier, Accuracy, report, xTest, yTest, cm = GaussianNaveiBayes(xTrain, yTrain, xTest)\n",
    "accuracyGaussianNaveBayes.append(Accuracy)\n",
    "\n",
    "classifier, Accuracy, report, xTest, yTest, cm = KNearestNeighbour(xTrain, yTrain, xTest)\n",
    "accuracyKNearestNeighbour.append(Accuracy)\n",
    "\n",
    "classifier, Accuracy, report, xTest, yTest, cm = DecisionTree(xTrain, yTrain, xTest)\n",
    "accuracyDecisionTree.append(Accuracy)\n",
    "\n",
    "classifier, Accuracy, report, xTest, yTest, cm = randomForest(xTrain, yTrain, xTest)\n",
    "accuracyrandomForest.append(Accuracy)"
   ]
  },
  {
   "cell_type": "code",
   "execution_count": 28,
   "metadata": {},
   "outputs": [],
   "source": [
    "accuracyValues = [\n",
    "accuracyLogistic,\n",
    "accuracySVMLinear,\n",
    "accuracySVMrbf,\n",
    "accuracyGaussianNaveBayes,\n",
    "accuracyKNearestNeighbour,\n",
    "accuracyDecisionTree,\n",
    "accuracyrandomForest]"
   ]
  },
  {
   "cell_type": "code",
   "execution_count": 29,
   "metadata": {},
   "outputs": [
    {
     "data": {
      "text/plain": [
       "[[0.84], [0.91], [0.91], [0.9], [0.95], [0.93], [0.93]]"
      ]
     },
     "execution_count": 29,
     "metadata": {},
     "output_type": "execute_result"
    }
   ],
   "source": [
    "accuracyValues"
   ]
  },
  {
   "cell_type": "markdown",
   "metadata": {},
   "source": [
    "# Fifth dataFrame"
   ]
  },
  {
   "cell_type": "code",
   "execution_count": 30,
   "metadata": {},
   "outputs": [],
   "source": [
    "def selectkDataFrame(data):\n",
    "    dataFrame = pd.DataFrame(index = ['Kernel PCA'], columns = [\"logistic\", 'SVMLinear', 'SVMrbf', 'GaussianNaveBayes', 'KNN', 'DecisionTree', 'RandomForest'])\n",
    "    for x, i in enumerate(dataFrame.columns):\n",
    "        dataFrame[i] = accuracyValues[x][0]\n",
    "    return dataFrame"
   ]
  },
  {
   "cell_type": "code",
   "execution_count": 31,
   "metadata": {},
   "outputs": [],
   "source": [
    "result = selectkDataFrame(accuracyValues)"
   ]
  },
  {
   "cell_type": "code",
   "execution_count": 32,
   "metadata": {},
   "outputs": [
    {
     "data": {
      "text/html": [
       "<div>\n",
       "<style scoped>\n",
       "    .dataframe tbody tr th:only-of-type {\n",
       "        vertical-align: middle;\n",
       "    }\n",
       "\n",
       "    .dataframe tbody tr th {\n",
       "        vertical-align: top;\n",
       "    }\n",
       "\n",
       "    .dataframe thead th {\n",
       "        text-align: right;\n",
       "    }\n",
       "</style>\n",
       "<table border=\"1\" class=\"dataframe\">\n",
       "  <thead>\n",
       "    <tr style=\"text-align: right;\">\n",
       "      <th></th>\n",
       "      <th>logistic</th>\n",
       "      <th>SVMLinear</th>\n",
       "      <th>SVMrbf</th>\n",
       "      <th>GaussianNaveBayes</th>\n",
       "      <th>KNN</th>\n",
       "      <th>DecisionTree</th>\n",
       "      <th>RandomForest</th>\n",
       "    </tr>\n",
       "  </thead>\n",
       "  <tbody>\n",
       "    <tr>\n",
       "      <td>Kernel PCA</td>\n",
       "      <td>0.84</td>\n",
       "      <td>0.91</td>\n",
       "      <td>0.91</td>\n",
       "      <td>0.9</td>\n",
       "      <td>0.95</td>\n",
       "      <td>0.93</td>\n",
       "      <td>0.93</td>\n",
       "    </tr>\n",
       "  </tbody>\n",
       "</table>\n",
       "</div>"
      ],
      "text/plain": [
       "            logistic  SVMLinear  SVMrbf  GaussianNaveBayes   KNN  \\\n",
       "Kernel PCA      0.84       0.91    0.91                0.9  0.95   \n",
       "\n",
       "            DecisionTree  RandomForest  \n",
       "Kernel PCA          0.93          0.93  "
      ]
     },
     "execution_count": 32,
     "metadata": {},
     "output_type": "execute_result"
    }
   ],
   "source": [
    "result"
   ]
  },
  {
   "cell_type": "code",
   "execution_count": null,
   "metadata": {},
   "outputs": [],
   "source": []
  }
 ],
 "metadata": {
  "kernelspec": {
   "display_name": "Python 3",
   "language": "python",
   "name": "python3"
  },
  "language_info": {
   "codemirror_mode": {
    "name": "ipython",
    "version": 3
   },
   "file_extension": ".py",
   "mimetype": "text/x-python",
   "name": "python",
   "nbconvert_exporter": "python",
   "pygments_lexer": "ipython3",
   "version": "3.7.4"
  }
 },
 "nbformat": 4,
 "nbformat_minor": 5
}
